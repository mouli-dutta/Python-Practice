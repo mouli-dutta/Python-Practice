{
 "cells": [
  {
   "cell_type": "code",
   "execution_count": 1,
   "id": "78aa661f-0e2f-4ca2-aa7c-997f19bce207",
   "metadata": {},
   "outputs": [],
   "source": [
    "import numpy as np"
   ]
  },
  {
   "cell_type": "code",
   "execution_count": 2,
   "id": "fc5c4d98-5aa3-4017-9e48-16f5302d6dbd",
   "metadata": {},
   "outputs": [],
   "source": [
    "import random as rnd\n",
    "data_list = [rnd.randint(1, 100) for _ in range(25)]"
   ]
  },
  {
   "cell_type": "markdown",
   "id": "0c3e7988-9987-4ac7-b93d-f27432f2a871",
   "metadata": {},
   "source": [
    "## 1. Create a Numpy array from a list of integers"
   ]
  },
  {
   "cell_type": "code",
   "execution_count": 3,
   "id": "695dc78c-3f92-4a1f-9432-9d52e83b6e6e",
   "metadata": {},
   "outputs": [
    {
     "name": "stdout",
     "output_type": "stream",
     "text": [
      "[78 58 19 81 48 79 57 37 27 65 70 31 23 21 90 64 30 54 22 78 32 10 28 35\n",
      "  5]\n"
     ]
    }
   ],
   "source": [
    "np_array = np.array(data_list)\n",
    "print(np_array)"
   ]
  },
  {
   "cell_type": "markdown",
   "id": "5b9160d4-cd29-44dd-b0c7-23e171c679c8",
   "metadata": {},
   "source": [
    "## 2. Difference between arange(), linspace(), and logspace()"
   ]
  },
  {
   "cell_type": "code",
   "execution_count": 4,
   "id": "3b290b00-ea1a-48fa-a12d-0624b9c5e6cf",
   "metadata": {},
   "outputs": [
    {
     "name": "stdout",
     "output_type": "stream",
     "text": [
      "[1 3 5 7 9]\n"
     ]
    }
   ],
   "source": [
    "# np.arange(start, stop, step) creates an array with envenly spaced values within a range (excluding stop)\n",
    "# use arange() when you need fixed step size\n",
    "\n",
    "arr = np.arange(1, 10, 2)\n",
    "print(arr)"
   ]
  },
  {
   "cell_type": "code",
   "execution_count": 5,
   "id": "80a20605-e670-4bc8-9589-560a703d8d1e",
   "metadata": {},
   "outputs": [
    {
     "name": "stdout",
     "output_type": "stream",
     "text": [
      "[ 1.    3.25  5.5   7.75 10.  ]\n"
     ]
    }
   ],
   "source": [
    "# np.linspace(start, stop, num, endpoint) creates an array with nu, evenly spaces values between start and stop\n",
    "# use linspace() when you need a specific number of values\n",
    "\n",
    "arr = np.linspace(1, 10, 5, endpoint=True)\n",
    "print(arr)"
   ]
  },
  {
   "cell_type": "code",
   "execution_count": 6,
   "id": "99b26639-4b36-4cd9-8074-cd605d9e674f",
   "metadata": {},
   "outputs": [
    {
     "name": "stdout",
     "output_type": "stream",
     "text": [
      "[  10.           46.41588834  215.443469   1000.        ]\n"
     ]
    }
   ],
   "source": [
    "# np.logspcae(start, stop, num, base)\n",
    "# use logspace() when you need logarithmic scaling\n",
    "\n",
    "arr = np.logspace(1, 3, 4) # 10^1 to 10^3 with 4 values\n",
    "print(arr)"
   ]
  },
  {
   "cell_type": "markdown",
   "id": "74970df8-59d5-482a-9ddb-b2a8a2c818cb",
   "metadata": {},
   "source": [
    "## 3. Reshape a 1D array into a 2D matrix"
   ]
  },
  {
   "cell_type": "code",
   "execution_count": 7,
   "id": "c5756095-272d-4299-b645-00823e27ef73",
   "metadata": {},
   "outputs": [
    {
     "name": "stdout",
     "output_type": "stream",
     "text": [
      "[[78 58 19 81 48]\n",
      " [79 57 37 27 65]\n",
      " [70 31 23 21 90]\n",
      " [64 30 54 22 78]\n",
      " [32 10 28 35  5]]\n"
     ]
    }
   ],
   "source": [
    "arr = np.array(data_list)\n",
    "matrix = arr.reshape(5, 5)\n",
    "print(matrix)"
   ]
  },
  {
   "cell_type": "markdown",
   "id": "73fc6e42-73bb-4076-b4b6-2993c813f605",
   "metadata": {},
   "source": [
    "## 4. Find Mean, Median and Standard deviation of a NumPy array"
   ]
  },
  {
   "cell_type": "code",
   "execution_count": 8,
   "id": "59cf38c3-e1e1-4ed0-ba4a-feece55c481c",
   "metadata": {},
   "outputs": [
    {
     "name": "stdout",
     "output_type": "stream",
     "text": [
      "Mean : 10.0\n",
      "Median : 10.0\n",
      "Standard Deviation : 5.744562646538029\n",
      "\n"
     ]
    }
   ],
   "source": [
    "arr = np.arange(1, 20, 2)\n",
    "\n",
    "mean_val = np.mean(arr)\n",
    "median_val = np.median(arr)\n",
    "std_val = np.std(arr)\n",
    "\n",
    "print(f'Mean : {mean_val}\\nMedian : {median_val}\\nStandard Deviation : {std_val}\\n')"
   ]
  },
  {
   "cell_type": "markdown",
   "id": "16783da1-e728-408a-97a6-996feb3d60e7",
   "metadata": {},
   "source": [
    "## 5. Perform element-wise addition and multiplication of two arrays  "
   ]
  },
  {
   "cell_type": "code",
   "execution_count": 9,
   "id": "3795dc74-5a32-4b1e-a6c2-88dd1168b62f",
   "metadata": {},
   "outputs": [],
   "source": [
    "arr1 = np.arange(1, 10, 2)\n",
    "arr2 = np.arange(2, 11, 2)"
   ]
  },
  {
   "cell_type": "code",
   "execution_count": 10,
   "id": "3dd20c67-429c-4121-b280-fb68b6b63ab1",
   "metadata": {},
   "outputs": [
    {
     "name": "stdout",
     "output_type": "stream",
     "text": [
      "Arr1 :  [1 3 5 7 9]\n",
      "Arr2 :  [ 2  4  6  8 10]\n",
      "Addition :  [ 3  7 11 15 19]\n",
      "Multiplication :  [ 2 12 30 56 90]\n"
     ]
    }
   ],
   "source": [
    "add = arr1 + arr2 # or, np.add(arr1, arr2)\n",
    "mul = arr1 * arr2 # or, np.multiply(arr1, arr2)\n",
    "\n",
    "print('Arr1 : ', arr1)\n",
    "print('Arr2 : ', arr2)\n",
    "print(\"Addition : \", add)\n",
    "print(\"Multiplication : \", mul)"
   ]
  },
  {
   "cell_type": "markdown",
   "id": "47a5c3b0-fad2-4aeb-bcb6-9e13f71701b8",
   "metadata": {},
   "source": [
    "## 6. Linear Algebra"
   ]
  },
  {
   "cell_type": "code",
   "execution_count": 13,
   "id": "7c5d5753-d5b8-4df9-b0cc-d3fb29f9a7c8",
   "metadata": {},
   "outputs": [
    {
     "name": "stdout",
     "output_type": "stream",
     "text": [
      "Dot product :  190\n",
      "\n",
      "Inverse :\n",
      " [[-0.02963979  0.0266593   0.04155903 -0.05565169  0.05807483]\n",
      " [ 0.01777461  0.01634108 -0.0377548   0.02188199 -0.04484303]\n",
      " [-0.00109289 -0.00131021 -0.02525468  0.03095335 -0.00076359]\n",
      " [ 0.02114121 -0.02511365 -0.00698835  0.01643806 -0.00712145]\n",
      " [ 0.01227715 -0.02016892 -0.00012356  0.02400167 -0.02786657]]\n",
      "\n",
      "Diagonal matrix :\n",
      " [[1 0 0]\n",
      " [0 2 0]\n",
      " [0 0 3]]\n",
      "\n",
      "Eigen values :  [227.45462394 +0.j          24.95493575 +0.j\n",
      " -16.5542565 +15.26439301j -16.5542565 -15.26439301j\n",
      " -34.30104667 +0.j        ]\n",
      "\n",
      "Eigen vectors :\n",
      " [[ 0.56442906+0.j         -0.22670757+0.j          0.66472972+0.j\n",
      "   0.66472972-0.j         -0.22604065+0.j        ]\n",
      " [ 0.50876903+0.j         -0.76576315+0.j         -0.34167605-0.05615414j\n",
      "  -0.34167605+0.05615414j  0.02824795+0.j        ]\n",
      " [ 0.41582824+0.j          0.22436114+0.j         -0.07297408-0.42710246j\n",
      "  -0.07297408+0.42710246j -0.74610351+0.j        ]\n",
      " [ 0.4453857 +0.j          0.44153045+0.j         -0.39395775+0.17441642j\n",
      "  -0.39395775-0.17441642j  0.10242162+0.j        ]\n",
      " [ 0.22647815+0.j          0.34194066+0.j         -0.20289016+0.1539761j\n",
      "  -0.20289016-0.1539761j   0.61720908+0.j        ]]\n"
     ]
    }
   ],
   "source": [
    "dot_prod = np.dot(arr1, arr2)\n",
    "inv_matrix = np.linalg.inv(matrix)\n",
    "dig_matrix = np.diag([1, 2, 3])\n",
    "eigen_values, eigen_vectors = np.linalg.eig(matrix)\n",
    "\n",
    "print('Dot product : ', dot_prod)\n",
    "print('\\nInverse :\\n', inv_matrix)\n",
    "print(\"\\nDiagonal matrix :\\n\", dig_matrix)\n",
    "print('\\nEigen values : ', eigen_values)\n",
    "print('\\nEigen vectors :\\n', eigen_vectors)"
   ]
  },
  {
   "cell_type": "code",
   "execution_count": null,
   "id": "25c432e4-79ab-43dd-9ff2-c616f9778974",
   "metadata": {},
   "outputs": [],
   "source": []
  }
 ],
 "metadata": {
  "kernelspec": {
   "display_name": "Python 3 (ipykernel)",
   "language": "python",
   "name": "python3"
  },
  "language_info": {
   "codemirror_mode": {
    "name": "ipython",
    "version": 3
   },
   "file_extension": ".py",
   "mimetype": "text/x-python",
   "name": "python",
   "nbconvert_exporter": "python",
   "pygments_lexer": "ipython3",
   "version": "3.11.3"
  }
 },
 "nbformat": 4,
 "nbformat_minor": 5
}
